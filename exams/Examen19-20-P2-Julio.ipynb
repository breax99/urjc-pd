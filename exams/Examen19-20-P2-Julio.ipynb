{
 "cells": [
  {
   "cell_type": "markdown",
   "metadata": {},
   "source": [
    "# Programación declarativa @ URJC\n",
    "# Programación funcional\n",
    "## Examen Convocatoria Extraordinaria\n",
    "## Curso 19-20"
   ]
  },
  {
   "cell_type": "markdown",
   "metadata": {},
   "source": [
    "# Definiciones auxiliares"
   ]
  },
  {
   "cell_type": "markdown",
   "metadata": {},
   "source": [
    "__NOTA: estas definiciones se repartirán entre los ejercicios correspondientes__"
   ]
  },
  {
   "cell_type": "code",
   "execution_count": 1,
   "metadata": {},
   "outputs": [
    {
     "data": {
      "text/plain": [
       "\u001b[32mimport \u001b[39m\u001b[36m$ivy.$                               \n",
       "\u001b[39m\n",
       "\u001b[32mimport \u001b[39m\u001b[36morg.scalatest._\u001b[39m"
      ]
     },
     "execution_count": 1,
     "metadata": {},
     "output_type": "execute_result"
    }
   ],
   "source": [
    "import $ivy.`org.scalatest::scalatest:3.0.8`\n",
    "import org.scalatest._"
   ]
  },
  {
   "cell_type": "markdown",
   "metadata": {},
   "source": [
    "### Algunas funciones sobre listas"
   ]
  },
  {
   "cell_type": "code",
   "execution_count": 2,
   "metadata": {},
   "outputs": [
    {
     "data": {
      "text/plain": [
       "defined \u001b[32mobject\u001b[39m \u001b[36mSignatures\u001b[39m"
      ]
     },
     "execution_count": 2,
     "metadata": {},
     "output_type": "execute_result"
    }
   ],
   "source": [
    "object Signatures{\n",
    "    abstract class List[A]{\n",
    "        \n",
    "        // Common HOFs\n",
    "        def foldRight[B](directSol: B)(composeSol: (A, B) => B): B\n",
    "        def foldLeft[B](initial: B)(update: (B, A) => B): B\n",
    "        def map[B](f: A => B): List[B]\n",
    "        def flatMap[B](f: A => List[B]): List[B]\n",
    "        def filter(f: A => Boolean): List[A]\n",
    "        def forall(pred: A => Boolean): Boolean\n",
    "        def exists(pred: A => Boolean): Boolean\n",
    "        \n",
    "        // Reverse a list\n",
    "        // e.g. List(1,2,3).reverse==List(3,2,1)\n",
    "        def reverse: List[A]\n",
    "        \n",
    "        // Take the first `n` elements of the list\n",
    "        // e.g. List(1,2,3).take(2) == List(1,2)\n",
    "        //      List(1,2,3).take(0) == List()\n",
    "        //      List(1,2,3).take(5) == List(1,2,3)\n",
    "        def take(n: Int): List[A]\n",
    "        \n",
    "        // Drop the first `n` elements of the list \n",
    "        // e.g. List(1,2,3).drop(2) == List(3)\n",
    "        //      List(1,2,3).drop(0) == List(1,2,3)\n",
    "        //      List(1,2,3).drop(4) == List()\n",
    "        def drop(n: Int): List[A]\n",
    "\n",
    "        // List concatenation\n",
    "        // e.g. List(1,2,3).concat(List(4,5)) == List(1,2,3,4,5)\n",
    "        def concat(l: List[A]): List[A]\n",
    "    }\n",
    "}"
   ]
  },
  {
   "cell_type": "markdown",
   "metadata": {},
   "source": [
    "### Definiciones sobre árboles binarios"
   ]
  },
  {
   "cell_type": "code",
   "execution_count": 3,
   "metadata": {},
   "outputs": [
    {
     "data": {
      "text/plain": [
       "defined \u001b[32mclass\u001b[39m \u001b[36mTree\u001b[39m\n",
       "defined \u001b[32mclass\u001b[39m \u001b[36mEmpty\u001b[39m\n",
       "defined \u001b[32mclass\u001b[39m \u001b[36mNode\u001b[39m"
      ]
     },
     "execution_count": 3,
     "metadata": {},
     "output_type": "execute_result"
    }
   ],
   "source": [
    "sealed abstract class Tree[A]\n",
    "case class Empty[A]() extends Tree[A]\n",
    "case class Node[A](left: Tree[A], root: A, right: Tree[A]) extends Tree[A]"
   ]
  },
  {
   "cell_type": "code",
   "execution_count": 4,
   "metadata": {},
   "outputs": [
    {
     "data": {
      "text/plain": [
       "defined \u001b[32mobject\u001b[39m \u001b[36mTree\u001b[39m\n",
       "\u001b[32mimport \u001b[39m\u001b[36mTree._\u001b[39m"
      ]
     },
     "execution_count": 4,
     "metadata": {},
     "output_type": "execute_result"
    }
   ],
   "source": [
    "object Tree{\n",
    "    \n",
    "    def void[A]: Tree[A] = \n",
    "        Empty()\n",
    "    \n",
    "    def leaf[A](a: A): Node[A] = \n",
    "        Node(Empty(), a, Empty())\n",
    "    \n",
    "    def right[A](a: A, tree: Tree[A]): Node[A] = \n",
    "        Node(Empty(), a, tree)\n",
    "    \n",
    "    def left[A](tree: Tree[A], a: A): Node[A] = \n",
    "        Node(tree, a, Empty())\n",
    "    \n",
    "    def node[A](left: Tree[A], a: A, right: Tree[A]): Node[A] = \n",
    "        Node(left, a, right)\n",
    "    \n",
    "    def foldTree[A, B](tree: Tree[A])(empty: B)(node: (B, A, B) => B): B = \n",
    "        tree match {\n",
    "            case Empty() => \n",
    "                empty\n",
    "            case Node(left, a, right) =>\n",
    "                node(foldTree(left)(empty)(node),\n",
    "                    a,\n",
    "                    foldTree(right)(empty)(node))\n",
    "        }\n",
    "}\n",
    "\n",
    "import Tree._"
   ]
  },
  {
   "cell_type": "markdown",
   "metadata": {},
   "source": [
    "### Modelo de datos de películas"
   ]
  },
  {
   "cell_type": "code",
   "execution_count": 130,
   "metadata": {},
   "outputs": [
    {
     "data": {
      "text/plain": [
       "defined \u001b[32mclass\u001b[39m \u001b[36mMovieDatabase\u001b[39m\n",
       "defined \u001b[32mclass\u001b[39m \u001b[36mFilm\u001b[39m\n",
       "defined \u001b[32mobject\u001b[39m \u001b[36mFilm\u001b[39m\n",
       "defined \u001b[32mclass\u001b[39m \u001b[36mUser\u001b[39m\n",
       "defined \u001b[32mobject\u001b[39m \u001b[36mUser\u001b[39m\n",
       "defined \u001b[32mclass\u001b[39m \u001b[36mRating\u001b[39m"
      ]
     },
     "execution_count": 130,
     "metadata": {},
     "output_type": "execute_result"
    }
   ],
   "source": [
    "case class MovieDatabase(\n",
    "    films: Map[Film.Id, Film],\n",
    "    users: Map[User.Id, User],\n",
    "    ratings: Map[(Film.Id, User.Id), Rating])\n",
    "    \n",
    "case class Film(\n",
    "    id: Film.Id, \n",
    "    title: String, \n",
    "    director: String,\n",
    "    genre: String,\n",
    "    year: Int,\n",
    "    country: String)\n",
    "\n",
    "object Film{\n",
    "    type Id = Int\n",
    "}\n",
    "\n",
    "case class User(\n",
    "    id: User.Id,\n",
    "    name: String,\n",
    "    age: Int)\n",
    "        \n",
    "object User{\n",
    "    type Id = Int\n",
    "}\n",
    "        \n",
    "case class Rating(\n",
    "    film: Film.Id,\n",
    "    user: User.Id,\n",
    "    score: Int)"
   ]
  },
  {
   "cell_type": "code",
   "execution_count": 131,
   "metadata": {},
   "outputs": [
    {
     "data": {
      "text/plain": [
       "\u001b[36mmoviedb\u001b[39m: \u001b[32mMovieDatabase\u001b[39m = \u001b[33mMovieDatabase\u001b[39m(\n",
       "  \u001b[33mHashMap\u001b[39m(\n",
       "    \u001b[32m5\u001b[39m -> \u001b[33mFilm\u001b[39m(\n",
       "      \u001b[32m5\u001b[39m,\n",
       "      \u001b[32m\"2001: A Space Odyssey\"\u001b[39m,\n",
       "      \u001b[32m\"Stanley Kubrick\"\u001b[39m,\n",
       "      \u001b[32m\"Sci-Fi\"\u001b[39m,\n",
       "      \u001b[32m1968\u001b[39m,\n",
       "      \u001b[32m\"United Kingdom\"\u001b[39m\n",
       "    ),\n",
       "    \u001b[32m10\u001b[39m -> \u001b[33mFilm\u001b[39m(\n",
       "      \u001b[32m10\u001b[39m,\n",
       "      \u001b[32m\"Batman v. Superman: Dawn of Justice\"\u001b[39m,\n",
       "      \u001b[32m\"Zack Snyder\"\u001b[39m,\n",
       "      \u001b[32m\"Sci-Fi\"\u001b[39m,\n",
       "      \u001b[32m2016\u001b[39m,\n",
       "      \u001b[32m\"United States\"\u001b[39m\n",
       "    ),\n",
       "    \u001b[32m14\u001b[39m -> \u001b[33mFilm\u001b[39m(\n",
       "      \u001b[32m14\u001b[39m,\n",
       "      \u001b[32m\"Manhattan Murder Mystery\"\u001b[39m,\n",
       "      \u001b[32m\"Woody Allen\"\u001b[39m,\n",
       "      \u001b[32m\"Comedy\"\u001b[39m,\n",
       "      \u001b[32m1993\u001b[39m,\n",
       "      \u001b[32m\"United States\"\u001b[39m\n",
       "    ),\n",
       "    \u001b[32m1\u001b[39m -> \u001b[33mFilm\u001b[39m(\u001b[32m1\u001b[39m, \u001b[32m\"Blade Runner\"\u001b[39m, \u001b[32m\"Ridley Scott\"\u001b[39m, \u001b[32m\"Sci-Fi\"\u001b[39m, \u001b[32m1982\u001b[39m, \u001b[32m\"United States\"\u001b[39m),\n",
       "    \u001b[32m6\u001b[39m -> \u001b[33mFilm\u001b[39m(\u001b[32m6\u001b[39m, \u001b[32m\"El crack Cero\"\u001b[39m, \u001b[32m\"Jos\\u00e9 Luis Garci\"\u001b[39m, \u001b[32m\"Film noir\"\u001b[39m, \u001b[32m2019\u001b[39m, \u001b[32m\"Spain\"\u001b[39m),\n",
       "    \u001b[32m9\u001b[39m -> \u001b[33mFilm\u001b[39m(\u001b[32m9\u001b[39m, \u001b[32m\"Chinatown\"\u001b[39m, \u001b[32m\"Roman Polanski\"\u001b[39m, \u001b[32m\"Film noir\"\u001b[39m, \u001b[32m1974\u001b[39m, \u001b[32m\"United States\"\u001b[39m),\n",
       "    \u001b[32m13\u001b[39m -> \u001b[33mFilm\u001b[39m(\u001b[32m13\u001b[39m, \u001b[32m\"Love and Death\"\u001b[39m, \u001b[32m\"Woody Allen\"\u001b[39m, \u001b[32m\"Comedy\"\u001b[39m, \u001b[32m1975\u001b[39m, \u001b[32m\"United States\"\u001b[39m),\n",
       "    \u001b[32m2\u001b[39m -> \u001b[33mFilm\u001b[39m(\n",
       "      \u001b[32m2\u001b[39m,\n",
       "      \u001b[32m\"Amanece, que no es poco\"\u001b[39m,\n",
       "      \u001b[32m\"Jos\\u00e9 Luis Cuerda\"\u001b[39m,\n",
       "      \u001b[32m\"Comedy\"\u001b[39m,\n",
       "..."
      ]
     },
     "execution_count": 131,
     "metadata": {},
     "output_type": "execute_result"
    }
   ],
   "source": [
    "val moviedb: MovieDatabase = MovieDatabase(\n",
    "    films = Map(\n",
    "        1 -> Film(1, \"Blade Runner\", \"Ridley Scott\", \"Sci-Fi\", 1982, \"United States\"),\n",
    "        2 -> Film(2, \"Amanece, que no es poco\", \"José Luis Cuerda\", \"Comedy\", 1989, \"Spain\"),\n",
    "        3 -> Film(3, \"El milagro de P. Tinto\", \"Javier Fesser\", \"Comedy\", 1998, \"Spain\"),\n",
    "        4 -> Film(4, \"Mars Attacks!\", \"Tim Burton\", \"Sci-Fi\", 1996, \"United States\"),\n",
    "        5 -> Film(5, \"2001: A Space Odyssey\", \"Stanley Kubrick\", \"Sci-Fi\", 1968, \"United Kingdom\"),\n",
    "        6 -> Film(6, \"El crack Cero\", \"José Luis Garci\", \"Film noir\", 2019, \"Spain\"),\n",
    "        7 -> Film(7, \"El crack\", \"José Luis Garci\", \"Film noir\", 1981, \"Spain\"),\n",
    "        8 -> Film(8, \"The Maltese Falcon\", \"John Huston\", \"Film noir\", 1941, \"United States\"),\n",
    "        9 -> Film(9, \"Chinatown\", \"Roman Polanski\", \"Film noir\", 1974, \"United States\"),\n",
    "        10 -> Film(10, \"Batman v. Superman: Dawn of Justice\", \"Zack Snyder\", \"Sci-Fi\", 2016, \"United States\"),\n",
    "        11 -> Film(11, \"Dumb and Dumber\", \"Peter Farrelly\", \"Comedy\", 1994, \"United States\"),\n",
    "        12 -> Film(12, \"Crimes and Misdemeanors\", \"Woody Allen\", \"Comedy\", 1989, \"United States\"),\n",
    "        13 -> Film(13, \"Love and Death\", \"Woody Allen\", \"Comedy\", 1975, \"United States\"),\n",
    "        14 -> Film(14, \"Manhattan Murder Mystery\", \"Woody Allen\", \"Comedy\", 1993, \"United States\")\n",
    "    ),\n",
    "    users = Map(\n",
    "        1 -> User(1, \"Juan\", 48),\n",
    "        2 -> User(2, \"Alf\", 33),\n",
    "        3 -> User(3, \"Lola\", 24),\n",
    "        4 -> User(4, \"Lolo\", 18),\n",
    "        5 -> User(5, \"Dinu\", 30)),\n",
    "    ratings = Map(\n",
    "        (1,1) -> Rating(1,1,5),\n",
    "        (1,2) -> Rating(1,2,1),\n",
    "        (1,3) -> Rating(1,3,4),\n",
    "        (1,4) -> Rating(1,4,3),\n",
    "        (2,1) -> Rating(2,1,1),\n",
    "        (2,4) -> Rating(2,4,1),\n",
    "        (4,1) -> Rating(4,1,3),\n",
    "        (5,4) -> Rating(5,4,2),\n",
    "        (6,1) -> Rating(6,1,2),\n",
    "        (7,1) -> Rating(7,1,3),\n",
    "        (7,2) -> Rating(7,2,3),\n",
    "        (7,3) -> Rating(7,3,3),\n",
    "        (8,2) -> Rating(8,2,2),\n",
    "        (9,1) -> Rating(9,1,1),\n",
    "        (10,1) -> Rating(10,1,0),\n",
    "        (10,3) -> Rating(10,3,0),\n",
    "        (11,1) -> Rating(11,1,0),\n",
    "        (11,2) -> Rating(11,2,1),\n",
    "        (11,4) -> Rating(11,4,2),\n",
    "        (12,1) -> Rating(12,1,5),\n",
    "        (13,2) -> Rating(13,2,1),\n",
    "        (14,7) -> Rating(14,7,3)))"
   ]
  },
  {
   "cell_type": "code",
   "execution_count": 133,
   "metadata": {},
   "outputs": [
    {
     "data": {
      "text/plain": [
       "defined \u001b[32mobject\u001b[39m \u001b[36mBasicQueries\u001b[39m\n",
       "\u001b[32mimport \u001b[39m\u001b[36mBasicQueries._\u001b[39m"
      ]
     },
     "execution_count": 133,
     "metadata": {},
     "output_type": "execute_result"
    }
   ],
   "source": [
    "object BasicQueries{\n",
    "    \n",
    "    // Entities\n",
    "    \n",
    "    def films(mdb: MovieDatabase): List[Film] =\n",
    "        mdb.films.values.toList\n",
    "    \n",
    "    def filmIds(mdb: MovieDatabase): List[Film.Id] =\n",
    "        mdb.films.keys.toList\n",
    "\n",
    "    def getFilm(id: Film.Id)(mdb: MovieDatabase): List[Film] = \n",
    "        mdb.films.get(id).toList\n",
    "    \n",
    "    def userIds(mdb: MovieDatabase): List[User.Id] = \n",
    "        mdb.users.keys.toList\n",
    "    \n",
    "    def getUser(id: User.Id)(mdb: MovieDatabase): List[User] = \n",
    "        mdb.users.get(id).toList\n",
    "    \n",
    "    // 1-N relationships\n",
    "    \n",
    "    def films(dir: String)(mdb: MovieDatabase): List[Film.Id] = \n",
    "        mdb.films.filter(_._2.director == dir).map(_._1).toList\n",
    "    \n",
    "    // N-M relationships\n",
    "    \n",
    "    def ratings(mdb: MovieDatabase): List[Rating] = \n",
    "        mdb.ratings.values.toList\n",
    "    \n",
    "    def userRatings(user: User.Id)(mdb: MovieDatabase): List[Rating] = \n",
    "        mdb.ratings.filter(_._1._2 == user).values.toList\n",
    "    \n",
    "    def filmRatings(film: Film.Id)(mdb: MovieDatabase): List[Rating] = \n",
    "        mdb.ratings.filter(_._1._1 == film).values.toList\n",
    "}\n",
    "\n",
    "import BasicQueries._"
   ]
  },
  {
   "cell_type": "markdown",
   "metadata": {},
   "source": [
    "# Ejercicio 1\n",
    "__(1 punto)__"
   ]
  },
  {
   "cell_type": "markdown",
   "metadata": {},
   "source": [
    "Implementa la función `elimD` especificada por la siguiente signatura:"
   ]
  },
  {
   "cell_type": "markdown",
   "metadata": {},
   "source": [
    "#### VARIANTE 1"
   ]
  },
  {
   "cell_type": "code",
   "execution_count": 154,
   "metadata": {},
   "outputs": [
    {
     "data": {
      "text/plain": [
       "defined \u001b[32mfunction\u001b[39m \u001b[36melimD\u001b[39m"
      ]
     },
     "execution_count": 154,
     "metadata": {},
     "output_type": "execute_result"
    }
   ],
   "source": [
    "def elimD[A, B, C](e: Either[A, B])(f: A => C, g: B => C): C = \n",
    "    e match {\n",
    "        case Left(a) => f(a)\n",
    "        case Right(b) => g(b)\n",
    "    }"
   ]
  },
  {
   "cell_type": "markdown",
   "metadata": {},
   "source": [
    "#### VARIANTE 2"
   ]
  },
  {
   "cell_type": "code",
   "execution_count": 9,
   "metadata": {},
   "outputs": [
    {
     "data": {
      "text/plain": [
       "defined \u001b[32mfunction\u001b[39m \u001b[36melimD\u001b[39m"
      ]
     },
     "execution_count": 9,
     "metadata": {},
     "output_type": "execute_result"
    }
   ],
   "source": [
    "def elimD[A, B, C](e: Either[(A, A => C), (B, B => C)]): C = \n",
    "    e match {\n",
    "        case Left((a, f)) => f(a)\n",
    "        case Right((b, g)) => g(b)\n",
    "    }"
   ]
  },
  {
   "cell_type": "markdown",
   "metadata": {},
   "source": [
    "#### VARIANTE 3"
   ]
  },
  {
   "cell_type": "code",
   "execution_count": 158,
   "metadata": {},
   "outputs": [
    {
     "data": {
      "text/plain": [
       "defined \u001b[32mfunction\u001b[39m \u001b[36melimD\u001b[39m"
      ]
     },
     "execution_count": 158,
     "metadata": {},
     "output_type": "execute_result"
    }
   ],
   "source": [
    "def elimD[A, B, C](e: Either[A, B]): Either[(A => C) => C, (B => C) => C] = \n",
    "    e match {\n",
    "        case Left(a) => Left(f => f(a))\n",
    "        case Right(b) => Right(_(b))\n",
    "    }"
   ]
  },
  {
   "cell_type": "markdown",
   "metadata": {},
   "source": [
    "#### VARIANTE 4"
   ]
  },
  {
   "cell_type": "code",
   "execution_count": 157,
   "metadata": {},
   "outputs": [
    {
     "data": {
      "text/plain": [
       "defined \u001b[32mfunction\u001b[39m \u001b[36melimD\u001b[39m"
      ]
     },
     "execution_count": 157,
     "metadata": {},
     "output_type": "execute_result"
    }
   ],
   "source": [
    "def elimD[A, B, C]: Either[A, B] => (A => C, B => C) => C = {\n",
    "    case Left(a) => (f, _) => f(a)\n",
    "    case Right(b) => (_: A => C, g: B => C) => g(b)\n",
    "}"
   ]
  },
  {
   "cell_type": "markdown",
   "metadata": {},
   "source": [
    "#### VARIANTE 5"
   ]
  },
  {
   "cell_type": "code",
   "execution_count": 159,
   "metadata": {},
   "outputs": [
    {
     "data": {
      "text/plain": [
       "defined \u001b[32mfunction\u001b[39m \u001b[36melimD\u001b[39m"
      ]
     },
     "execution_count": 159,
     "metadata": {},
     "output_type": "execute_result"
    }
   ],
   "source": [
    "def elimD[A, B, C]: Either[(A, A => C), (B, B => C)] => C = {\n",
    "    case Left((a, f)) => f(a)\n",
    "    case Right((b, g)) => g(b)\n",
    "}"
   ]
  },
  {
   "cell_type": "markdown",
   "metadata": {},
   "source": [
    "#### VARIANTE 6"
   ]
  },
  {
   "cell_type": "code",
   "execution_count": 13,
   "metadata": {},
   "outputs": [
    {
     "data": {
      "text/plain": [
       "defined \u001b[32mfunction\u001b[39m \u001b[36melimD\u001b[39m"
      ]
     },
     "execution_count": 13,
     "metadata": {},
     "output_type": "execute_result"
    }
   ],
   "source": [
    "def elimD[A, B, C]: Either[A, B] => Either[(A => C) => C, (B => C) => C] = {\n",
    "    case Left(a) => Left(f => f(a))\n",
    "    case Right(b) => Right(f => f(b))\n",
    "}"
   ]
  },
  {
   "cell_type": "markdown",
   "metadata": {},
   "source": [
    "#### VARIANTE 7"
   ]
  },
  {
   "cell_type": "code",
   "execution_count": 156,
   "metadata": {},
   "outputs": [
    {
     "data": {
      "text/plain": [
       "defined \u001b[32mfunction\u001b[39m \u001b[36melimD\u001b[39m"
      ]
     },
     "execution_count": 156,
     "metadata": {},
     "output_type": "execute_result"
    }
   ],
   "source": [
    "def elimD[A, B, C]: Either[A, B] => Tuple2[A => C, B => C] => C = {\n",
    "    case Left(a) => t => t._1(a)\n",
    "    case Right(b) => t => t._2(b)\n",
    "}"
   ]
  },
  {
   "cell_type": "markdown",
   "metadata": {},
   "source": [
    "#### VARIANTE 8"
   ]
  },
  {
   "cell_type": "code",
   "execution_count": 15,
   "metadata": {},
   "outputs": [
    {
     "data": {
      "text/plain": [
       "defined \u001b[32mfunction\u001b[39m \u001b[36melimD\u001b[39m"
      ]
     },
     "execution_count": 15,
     "metadata": {},
     "output_type": "execute_result"
    }
   ],
   "source": [
    "def elimD[A, B, C]: Either[Tuple2[A, A => C], Tuple2[B, B => C]] => C = {\n",
    "    case Left((a, f)) => f(a)\n",
    "    case Right((b, g)) => g(b)\n",
    "}"
   ]
  },
  {
   "cell_type": "markdown",
   "metadata": {},
   "source": [
    "# Ejercicio 2 \n",
    "__(2,5 puntos)__"
   ]
  },
  {
   "cell_type": "markdown",
   "metadata": {},
   "source": [
    "#### VARIANTE 1"
   ]
  },
  {
   "cell_type": "markdown",
   "metadata": {},
   "source": [
    "La función `remove` elimina de un árbol binario de búsqueda su elemento más pequeño en caso de que exista, y en ese caso, además, devuelve dicho elemento. Se recuerda que un árbol binario de búsqueda es un árbol binario vacío o uno no vacío que cumple las siguientes condiciones:\n",
    "* Los elementos del hijo izquierdo, caso de existir, son menores estrictamente que la raíz.\n",
    "* Los elementos del hijo derecho, caso de existir, son mayores estrictamente que la raíz. \n",
    "* Sus hijos izquierdo y derecho son árboles binarios de búsqueda. \n",
    "\n",
    "Obsérvese que, según esta definición, en un árbol binario de búsqueda no hay elementos repetidos. "
   ]
  },
  {
   "cell_type": "markdown",
   "metadata": {},
   "source": [
    "La función `remove` debe satisfacer los siguientes casos de prueba:"
   ]
  },
  {
   "cell_type": "code",
   "execution_count": 170,
   "metadata": {},
   "outputs": [
    {
     "data": {
      "text/plain": [
       "defined \u001b[32mclass\u001b[39m \u001b[36mTestRemove1\u001b[39m"
      ]
     },
     "execution_count": 170,
     "metadata": {},
     "output_type": "execute_result"
    }
   ],
   "source": [
    "class TestRemove1(\n",
    "    remove: Tree[Int] => Option[(Tree[Int], Int)]\n",
    ") extends FlatSpec with Matchers{\n",
    "    \n",
    "    \"removeFirst\" should \"work\" in {\n",
    "        remove(void) shouldBe None\n",
    "        remove(leaf(1)) shouldBe Some((void, 1))\n",
    "        remove(right(1, leaf(2))) shouldBe Some((leaf(2), 1))\n",
    "        remove(right(1, node(leaf(2), 3, leaf(4)))) shouldBe Some((node(leaf(2), 3, leaf(4)), 1))\n",
    "        remove(left(leaf(1), 2)) shouldBe Some((left(void, 2), 1))\n",
    "        remove(left(left(leaf(1), 2), 3)) shouldBe Some((left(leaf(2), 3), 1))\n",
    "        remove(node(left(leaf(1), 2), 3, leaf(4))) shouldBe Some((node(leaf(2), 3, leaf(4)), 1))\n",
    "    }\n",
    "}"
   ]
  },
  {
   "cell_type": "markdown",
   "metadata": {},
   "source": [
    "Se pide implementar la función `remove` de manera recursiva. "
   ]
  },
  {
   "cell_type": "code",
   "execution_count": 171,
   "metadata": {},
   "outputs": [
    {
     "data": {
      "text/plain": [
       "defined \u001b[32mfunction\u001b[39m \u001b[36mremove1\u001b[39m"
      ]
     },
     "execution_count": 171,
     "metadata": {},
     "output_type": "execute_result"
    }
   ],
   "source": [
    "def remove1[A](tree: Tree[A]): Option[(Tree[A], A)] = \n",
    "    tree match {\n",
    "        case Empty() => None\n",
    "        case Node(left, a, right) => \n",
    "            remove1(left) match {\n",
    "                case None => Some((right, a))\n",
    "                case Some((leftR, first)) => Some((Node(leftR, a, right), first))\n",
    "            }\n",
    "    }"
   ]
  },
  {
   "cell_type": "code",
   "execution_count": 172,
   "metadata": {},
   "outputs": [
    {
     "name": "stdout",
     "output_type": "stream",
     "text": [
      "\u001b[32mcmd169$Helper$TestRemove1:\u001b[0m\n",
      "\u001b[32mremoveFirst\u001b[0m\n",
      "\u001b[32m- should work\u001b[0m\n"
     ]
    }
   ],
   "source": [
    "run(new TestRemove1(remove1))"
   ]
  },
  {
   "cell_type": "markdown",
   "metadata": {},
   "source": [
    "#### VARIANTE 2"
   ]
  },
  {
   "cell_type": "markdown",
   "metadata": {},
   "source": [
    "_Como la variante 1, pero cambiando la signatura_"
   ]
  },
  {
   "cell_type": "code",
   "execution_count": 173,
   "metadata": {},
   "outputs": [
    {
     "data": {
      "text/plain": [
       "defined \u001b[32mclass\u001b[39m \u001b[36mTestRemove2\u001b[39m"
      ]
     },
     "execution_count": 173,
     "metadata": {},
     "output_type": "execute_result"
    }
   ],
   "source": [
    "class TestRemove2(\n",
    "    remove: Tree[Int] => (Tree[Int], Option[Int])\n",
    ") extends FlatSpec with Matchers{\n",
    "    \n",
    "    \"remove\" should \"work\" in {\n",
    "        remove(void) shouldBe (void, None)\n",
    "        remove(leaf(1)) shouldBe (void, Some(1))\n",
    "        remove(right(1, leaf(2))) shouldBe (leaf(2), Some(1))\n",
    "        remove(right(1, node(leaf(2), 3, leaf(4)))) shouldBe (node(leaf(2), 3, leaf(4)), Some(1))\n",
    "        remove(left(leaf(1), 2)) shouldBe (left(void, 2), Some(1))\n",
    "        remove(left(left(leaf(1), 2), 3)) shouldBe (left(leaf(2), 3), Some(1))\n",
    "        remove(node(left(leaf(1), 2), 3, leaf(4))) shouldBe (node(leaf(2), 3, leaf(4)), Some(1))\n",
    "    }\n",
    "}"
   ]
  },
  {
   "cell_type": "code",
   "execution_count": 174,
   "metadata": {},
   "outputs": [
    {
     "data": {
      "text/plain": [
       "defined \u001b[32mfunction\u001b[39m \u001b[36mremove2\u001b[39m"
      ]
     },
     "execution_count": 174,
     "metadata": {},
     "output_type": "execute_result"
    }
   ],
   "source": [
    "def remove2[A](tree: Tree[A]): (Tree[A], Option[A]) = \n",
    "    tree match {\n",
    "        case Empty() => (Empty(), None)\n",
    "        case Node(left, a, right) => \n",
    "            remove2(left) match {\n",
    "                case (left, None) => (right, Some(a))\n",
    "                case (leftR, first) => (Node(leftR, a, right), first)\n",
    "            }\n",
    "    }"
   ]
  },
  {
   "cell_type": "code",
   "execution_count": 175,
   "metadata": {},
   "outputs": [
    {
     "name": "stdout",
     "output_type": "stream",
     "text": [
      "\u001b[32mcmd172$Helper$TestRemove2:\u001b[0m\n",
      "\u001b[32mremove\u001b[0m\n",
      "\u001b[32m- should work\u001b[0m\n"
     ]
    }
   ],
   "source": [
    "run(new TestRemove2(remove2[Int]))"
   ]
  },
  {
   "cell_type": "markdown",
   "metadata": {},
   "source": [
    "#### VARIANTE 3"
   ]
  },
  {
   "cell_type": "markdown",
   "metadata": {},
   "source": [
    "_Como la variante 1, pero con el último elemento_"
   ]
  },
  {
   "cell_type": "code",
   "execution_count": 179,
   "metadata": {},
   "outputs": [
    {
     "data": {
      "text/plain": [
       "defined \u001b[32mclass\u001b[39m \u001b[36mTestRemove3\u001b[39m"
      ]
     },
     "execution_count": 179,
     "metadata": {},
     "output_type": "execute_result"
    }
   ],
   "source": [
    "class TestRemove3(\n",
    "    remove: Tree[Int] => Option[(Tree[Int], Int)]\n",
    ") extends FlatSpec with Matchers{\n",
    "    \n",
    "    \"remove\" should \"work\" in {\n",
    "        remove(void) shouldBe None\n",
    "        remove(leaf(1)) shouldBe Some((void, 1))\n",
    "        remove(right(1, leaf(2))) shouldBe Some((leaf(1), 2))\n",
    "        remove(right(1, node(leaf(2), 3, leaf(4)))) shouldBe Some((right(1, left(leaf(2), 3)), 4))\n",
    "        remove(left(leaf(1), 2)) shouldBe Some((leaf(1), 2))\n",
    "        remove(right(1, right(2, right(3, leaf(4))))) shouldBe Some((right(1, right(2, leaf(3))), 4))\n",
    "        remove(node(left(leaf(1), 2), 3, leaf(4))) shouldBe Some((node(left(leaf(1), 2), 3, void), 4))\n",
    "    }\n",
    "}"
   ]
  },
  {
   "cell_type": "code",
   "execution_count": 180,
   "metadata": {},
   "outputs": [
    {
     "data": {
      "text/plain": [
       "defined \u001b[32mfunction\u001b[39m \u001b[36mremove3\u001b[39m"
      ]
     },
     "execution_count": 180,
     "metadata": {},
     "output_type": "execute_result"
    }
   ],
   "source": [
    "def remove3[A](tree: Tree[A]): Option[(Tree[A], A)] = \n",
    "    tree match {\n",
    "        case Empty() => None\n",
    "        case Node(left, a, right) => \n",
    "            remove3(right) match {\n",
    "                case None => Some((left, a))\n",
    "                case Some((rightR, last)) => Some((Node(left, a, rightR), last))\n",
    "            }\n",
    "    }"
   ]
  },
  {
   "cell_type": "markdown",
   "metadata": {},
   "source": [
    "#### VARIANTE 4"
   ]
  },
  {
   "cell_type": "markdown",
   "metadata": {},
   "source": [
    "_Como la variante 2, pero con el último elemento_"
   ]
  },
  {
   "cell_type": "code",
   "execution_count": 176,
   "metadata": {},
   "outputs": [
    {
     "data": {
      "text/plain": [
       "defined \u001b[32mclass\u001b[39m \u001b[36mTestRemove4\u001b[39m"
      ]
     },
     "execution_count": 176,
     "metadata": {},
     "output_type": "execute_result"
    }
   ],
   "source": [
    "class TestRemove4(\n",
    "    remove: Tree[Int] => (Tree[Int], Option[Int])\n",
    ") extends FlatSpec with Matchers{\n",
    "    \n",
    "    \"remove\" should \"work\" in {\n",
    "        remove(void) shouldBe (void, None)\n",
    "        remove(leaf(1)) shouldBe (void, Some(1))\n",
    "        remove(right(1, leaf(2))) shouldBe (leaf(1), Some(2))\n",
    "        remove(right(1, node(leaf(2), 3, leaf(4)))) shouldBe (right(1, left(leaf(2), 3)), Some(4))\n",
    "        remove(left(leaf(1), 2)) shouldBe (leaf(1), Some(2))\n",
    "        remove(right(1, right(2, right(3, leaf(4))))) shouldBe (right(1, right(2, leaf(3))), Some(4))\n",
    "        remove(node(left(leaf(1), 2), 3, leaf(4))) shouldBe (node(left(leaf(1), 2), 3, void), Some(4))\n",
    "    }\n",
    "}"
   ]
  },
  {
   "cell_type": "code",
   "execution_count": 177,
   "metadata": {},
   "outputs": [
    {
     "data": {
      "text/plain": [
       "defined \u001b[32mfunction\u001b[39m \u001b[36mremove4\u001b[39m"
      ]
     },
     "execution_count": 177,
     "metadata": {},
     "output_type": "execute_result"
    }
   ],
   "source": [
    "def remove4[A](tree: Tree[A]): (Tree[A], Option[A]) = \n",
    "    tree match {\n",
    "        case Empty() => (Empty(), None)\n",
    "        case Node(left, a, right) => \n",
    "            remove4(right) match {\n",
    "                case (right, None) => (left, Some(a))\n",
    "                case (rightR, last) => (Node(left, a, rightR), last)\n",
    "            }\n",
    "    }"
   ]
  },
  {
   "cell_type": "code",
   "execution_count": 178,
   "metadata": {},
   "outputs": [
    {
     "name": "stdout",
     "output_type": "stream",
     "text": [
      "\u001b[32mcmd175$Helper$TestRemove4:\u001b[0m\n",
      "\u001b[32mremove\u001b[0m\n",
      "\u001b[32m- should work\u001b[0m\n"
     ]
    }
   ],
   "source": [
    "run(new TestRemove4(remove4[Int]))"
   ]
  },
  {
   "cell_type": "markdown",
   "metadata": {},
   "source": [
    "#### VARIANTE 5"
   ]
  },
  {
   "cell_type": "markdown",
   "metadata": {},
   "source": [
    "La función `remove` recibe un árbol binario de búsqueda y un elemento, y elimina del árbol dicho elemento en caso de que pertenezca a él. Se recuerda que un árbol binario de búsqueda es un árbol binario vacío o uno no vacío que cumple las siguientes condiciones:\n",
    "* Los elementos del hijo izquierdo, caso de existir, son menores estrictamente que la raíz.\n",
    "* Los elementos del hijo derecho, caso de existir, son mayores estrictamente que la raíz. \n",
    "* Sus hijos izquierdo y derecho son árboles binarios de búsqueda. \n",
    "\n",
    "Obsérvese que, según esta definición, en un árbol binario de búsqueda no hay elementos repetidos. "
   ]
  },
  {
   "cell_type": "markdown",
   "metadata": {},
   "source": [
    "La función `remove` debe satisfacer los siguientes casos de prueba:"
   ]
  },
  {
   "cell_type": "code",
   "execution_count": 181,
   "metadata": {},
   "outputs": [
    {
     "data": {
      "text/plain": [
       "defined \u001b[32mclass\u001b[39m \u001b[36mTestRemove5\u001b[39m"
      ]
     },
     "execution_count": 181,
     "metadata": {},
     "output_type": "execute_result"
    }
   ],
   "source": [
    "class TestRemove5(\n",
    "    remove: (Tree[Int], Int) => Tree[Int]\n",
    ") extends FlatSpec with Matchers{\n",
    "    \n",
    "    \"remove\" should \"work\" in {\n",
    "        remove(void, 1) shouldBe void\n",
    "        remove(leaf(1), 2) shouldBe leaf(1)\n",
    "        remove(leaf(1), 1) shouldBe void\n",
    "        remove(left(leaf(1), 2), 2) shouldBe leaf(1) \n",
    "        remove(left(leaf(1), 2), 1) shouldBe leaf(2) \n",
    "        remove(right(1, leaf(2)), 1) shouldBe leaf(2)\n",
    "        remove(right(1, leaf(2)), 2) shouldBe leaf(1)\n",
    "        remove(right(1, node(leaf(2), 3, leaf(4))), 1) shouldBe right(2, right(3, leaf(4)))   \n",
    "        remove(left(left(leaf(1), 2), 3), 1) shouldBe left(leaf(2), 3)\n",
    "        remove(left(left(leaf(1), 2), 3), 2) shouldBe left(leaf(1), 3)\n",
    "        remove(left(left(leaf(1), 2), 3), 3) shouldBe left(leaf(1), 2)\n",
    "        remove(node(left(leaf(1), 2), 3, leaf(4)), 3) shouldBe node(left(leaf(1), 2), 4, void)\n",
    "    }\n",
    "}"
   ]
  },
  {
   "cell_type": "markdown",
   "metadata": {},
   "source": [
    "Se pide implementar la función `remove` utilizando para ello la siguiente función auxiliar: \n",
    "\n",
    "`def removeFirst[A](t: Tree[A]): (Tree[A], Option[A])`"
   ]
  },
  {
   "cell_type": "markdown",
   "metadata": {},
   "source": [
    "La función `removeFirst` elimina del árbol de entrada su elemento más pequeño en caso de que exista, y en ese caso, lo devuelve también. "
   ]
  },
  {
   "cell_type": "code",
   "execution_count": 182,
   "metadata": {},
   "outputs": [
    {
     "data": {
      "text/plain": [
       "defined \u001b[32mfunction\u001b[39m \u001b[36mremove5\u001b[39m"
      ]
     },
     "execution_count": 182,
     "metadata": {},
     "output_type": "execute_result"
    }
   ],
   "source": [
    "def remove5(tree: Tree[Int], i: Int): Tree[Int] = \n",
    "    tree match {\n",
    "        case Empty() => Empty()\n",
    "        case Node(left, `i`, right) => \n",
    "            remove2(right) match {\n",
    "                case (rightR, None) => left\n",
    "                case (rightR, Some(f)) => Node(left, f, rightR)\n",
    "            }\n",
    "        case Node(left, a, right) if a < i => \n",
    "            Node(left, a, remove5(right, i))\n",
    "        case Node(left, a, right) if i < a => \n",
    "            Node(remove5(left, i), a, right)\n",
    "    }"
   ]
  },
  {
   "cell_type": "code",
   "execution_count": 183,
   "metadata": {},
   "outputs": [
    {
     "name": "stdout",
     "output_type": "stream",
     "text": [
      "\u001b[32mcmd180$Helper$TestRemove5:\u001b[0m\n",
      "\u001b[32mremove\u001b[0m\n",
      "\u001b[32m- should work\u001b[0m\n"
     ]
    }
   ],
   "source": [
    "run(new TestRemove5(remove5))"
   ]
  },
  {
   "cell_type": "markdown",
   "metadata": {},
   "source": [
    "#### VARIANTE 6"
   ]
  },
  {
   "cell_type": "markdown",
   "metadata": {},
   "source": [
    "_Como la variante 5, pero con `remove1` en lugar de `remove2`_"
   ]
  },
  {
   "cell_type": "code",
   "execution_count": 186,
   "metadata": {},
   "outputs": [
    {
     "data": {
      "text/plain": [
       "defined \u001b[32mfunction\u001b[39m \u001b[36mremove6\u001b[39m"
      ]
     },
     "execution_count": 186,
     "metadata": {},
     "output_type": "execute_result"
    }
   ],
   "source": [
    "def remove6(tree: Tree[Int], i: Int): Tree[Int] = \n",
    "    tree match {\n",
    "        case Empty() => Empty()\n",
    "        case Node(left, `i`, right) => \n",
    "            remove1(right) match {\n",
    "                case None => left\n",
    "                case Some((rightR, f)) => Node(left, f, rightR)\n",
    "            }\n",
    "        case Node(left, a, right) if a < i => \n",
    "            Node(left, a, remove6(right, i))\n",
    "        case Node(left, a, right) if i < a => \n",
    "            Node(remove6(left, i), a, right)\n",
    "    }"
   ]
  },
  {
   "cell_type": "code",
   "execution_count": 187,
   "metadata": {},
   "outputs": [
    {
     "name": "stdout",
     "output_type": "stream",
     "text": [
      "\u001b[32mcmd180$Helper$TestRemove5:\u001b[0m\n",
      "\u001b[32mremove\u001b[0m\n",
      "\u001b[32m- should work\u001b[0m\n"
     ]
    }
   ],
   "source": [
    "run(new TestRemove5(remove6))"
   ]
  },
  {
   "cell_type": "markdown",
   "metadata": {},
   "source": [
    "#### VARIANTE 7"
   ]
  },
  {
   "cell_type": "markdown",
   "metadata": {},
   "source": [
    "_Como la variante 5, pero con `remove4` (es decir, eliminado el último elemento)_"
   ]
  },
  {
   "cell_type": "code",
   "execution_count": 188,
   "metadata": {},
   "outputs": [
    {
     "data": {
      "text/plain": [
       "defined \u001b[32mclass\u001b[39m \u001b[36mTestRemove7\u001b[39m"
      ]
     },
     "execution_count": 188,
     "metadata": {},
     "output_type": "execute_result"
    }
   ],
   "source": [
    "class TestRemove7(\n",
    "    remove: (Tree[Int], Int) => Tree[Int]\n",
    ") extends FlatSpec with Matchers{\n",
    "    \n",
    "    \"remove\" should \"work\" in {\n",
    "        remove(void, 1) shouldBe void\n",
    "        remove(leaf(1), 2) shouldBe leaf(1)\n",
    "        remove(leaf(1), 1) shouldBe void\n",
    "        remove(left(leaf(1), 2), 2) shouldBe leaf(1) \n",
    "        remove(left(leaf(1), 2), 1) shouldBe leaf(2) \n",
    "        remove(right(1, leaf(2)), 1) shouldBe leaf(2)\n",
    "        remove(right(1, leaf(2)), 2) shouldBe leaf(1)\n",
    "        remove(right(1, node(leaf(2), 3, leaf(4))), 1) shouldBe node(leaf(2), 3, leaf(4))   \n",
    "        remove(left(left(leaf(1), 2), 3), 1) shouldBe left(leaf(2), 3)\n",
    "        remove(left(left(leaf(1), 2), 3), 2) shouldBe left(leaf(1), 3)\n",
    "        remove(left(left(leaf(1), 2), 3), 3) shouldBe left(leaf(1), 2)\n",
    "        remove(node(left(leaf(1), 2), 3, leaf(4)), 3) shouldBe node(leaf(1), 2, leaf(4))\n",
    "    }\n",
    "}"
   ]
  },
  {
   "cell_type": "code",
   "execution_count": 194,
   "metadata": {},
   "outputs": [
    {
     "data": {
      "text/plain": [
       "defined \u001b[32mfunction\u001b[39m \u001b[36mremove7\u001b[39m"
      ]
     },
     "execution_count": 194,
     "metadata": {},
     "output_type": "execute_result"
    }
   ],
   "source": [
    "def remove7(tree: Tree[Int], i: Int): Tree[Int] = \n",
    "    tree match {\n",
    "        case Empty() => Empty()\n",
    "        case Node(left, `i`, right) => \n",
    "            remove4(left) match {\n",
    "                case (leftR, None) => right\n",
    "                case (leftR, Some(l)) => Node(leftR, l, right)\n",
    "            }\n",
    "        case Node(left, a, right) if a < i => \n",
    "            Node(left, a, remove7(right, i))\n",
    "        case Node(left, a, right) if i < a => \n",
    "            Node(remove7(left, i), a, right)\n",
    "    }"
   ]
  },
  {
   "cell_type": "code",
   "execution_count": 190,
   "metadata": {},
   "outputs": [
    {
     "name": "stdout",
     "output_type": "stream",
     "text": [
      "\u001b[32mcmd187$Helper$TestRemove7:\u001b[0m\n",
      "\u001b[32mremove\u001b[0m\n",
      "\u001b[32m- should work\u001b[0m\n"
     ]
    }
   ],
   "source": [
    "run(new TestRemove7(remove7))"
   ]
  },
  {
   "cell_type": "markdown",
   "metadata": {},
   "source": [
    "#### VARIANTE 8"
   ]
  },
  {
   "cell_type": "markdown",
   "metadata": {},
   "source": [
    "_Como la variante 7, pero con `remove3`_"
   ]
  },
  {
   "cell_type": "code",
   "execution_count": 192,
   "metadata": {},
   "outputs": [
    {
     "data": {
      "text/plain": [
       "defined \u001b[32mfunction\u001b[39m \u001b[36mremove8\u001b[39m"
      ]
     },
     "execution_count": 192,
     "metadata": {},
     "output_type": "execute_result"
    }
   ],
   "source": [
    "def remove8(tree: Tree[Int], i: Int): Tree[Int] = \n",
    "    tree match {\n",
    "        case Empty() => Empty()\n",
    "        case Node(left, `i`, right) => \n",
    "            remove3(left) match {\n",
    "                case None => right\n",
    "                case Some((leftR, l)) => Node(leftR, l, right)\n",
    "            }\n",
    "        case Node(left, a, right) if a < i => \n",
    "            Node(left, a, remove8(right, i))\n",
    "        case Node(left, a, right) if i < a => \n",
    "            Node(remove8(left, i), a, right)\n",
    "    }"
   ]
  },
  {
   "cell_type": "code",
   "execution_count": 193,
   "metadata": {},
   "outputs": [
    {
     "name": "stdout",
     "output_type": "stream",
     "text": [
      "\u001b[32mcmd187$Helper$TestRemove7:\u001b[0m\n",
      "\u001b[32mremove\u001b[0m\n",
      "\u001b[32m- should work\u001b[0m\n"
     ]
    }
   ],
   "source": [
    "run(new TestRemove7(remove8))"
   ]
  },
  {
   "cell_type": "markdown",
   "metadata": {},
   "source": [
    "# Ejercicio 3 \n",
    "__(2 puntos)__"
   ]
  },
  {
   "cell_type": "markdown",
   "metadata": {},
   "source": [
    "__NOTA: ejercicios sobre recursividad normal y recursividad por cola__"
   ]
  },
  {
   "cell_type": "markdown",
   "metadata": {},
   "source": [
    "#### VARIANTE 1"
   ]
  },
  {
   "cell_type": "markdown",
   "metadata": {},
   "source": [
    "La función `intersperse` intercala un elemento entre los posibles elementos de una lista. Su comportamiento satisface los siguientes casos de prueba:\n"
   ]
  },
  {
   "cell_type": "code",
   "execution_count": 27,
   "metadata": {},
   "outputs": [
    {
     "data": {
      "text/plain": [
       "defined \u001b[32mclass\u001b[39m \u001b[36mTestIntersperse\u001b[39m"
      ]
     },
     "execution_count": 27,
     "metadata": {},
     "output_type": "execute_result"
    }
   ],
   "source": [
    "class TestIntersperse(\n",
    "    intersperse: Char => List[Char] => List[Char]\n",
    ") extends FlatSpec with Matchers{\n",
    "    \n",
    "    \"intersperse\" should \"work\" in {\n",
    "        intersperse(',')(List()) shouldBe List()\n",
    "        intersperse(',')(List('h')) shouldBe List('h')\n",
    "        intersperse(',')(List('h', 'o', 'l', 'a')) shouldBe List('h', ',', 'o', ',', 'l', ',', 'a')\n",
    "    }\n",
    "}"
   ]
  },
  {
   "cell_type": "markdown",
   "metadata": {},
   "source": [
    "Implementa la función `intersperse` de manera recursiva (_sin_ recursividad por cola)."
   ]
  },
  {
   "cell_type": "code",
   "execution_count": 86,
   "metadata": {},
   "outputs": [
    {
     "data": {
      "text/plain": [
       "defined \u001b[32mfunction\u001b[39m \u001b[36mintersperse1\u001b[39m"
      ]
     },
     "execution_count": 86,
     "metadata": {},
     "output_type": "execute_result"
    }
   ],
   "source": [
    "def intersperse1[A](a: A)(l: List[A]): List[A] = \n",
    "    l match {\n",
    "        case Nil => Nil\n",
    "        case head :: Nil => head :: Nil\n",
    "        case head1 :: tail => head1 :: a :: intersperse1(a)(tail) \n",
    "    }"
   ]
  },
  {
   "cell_type": "code",
   "execution_count": 207,
   "metadata": {},
   "outputs": [
    {
     "name": "stdout",
     "output_type": "stream",
     "text": [
      "\u001b[32mcmd26$Helper$TestIntersperse:\u001b[0m\n",
      "\u001b[32mintersperse\u001b[0m\n",
      "\u001b[32m- should work\u001b[0m\n"
     ]
    }
   ],
   "source": [
    "run(new TestIntersperse(intersperse1))"
   ]
  },
  {
   "cell_type": "markdown",
   "metadata": {},
   "source": [
    "#### VARIANTE 2"
   ]
  },
  {
   "cell_type": "code",
   "execution_count": 87,
   "metadata": {},
   "outputs": [
    {
     "data": {
      "text/plain": [
       "defined \u001b[32mfunction\u001b[39m \u001b[36mintersperse2\u001b[39m"
      ]
     },
     "execution_count": 87,
     "metadata": {},
     "output_type": "execute_result"
    }
   ],
   "source": [
    "def intersperse2[A]: A => List[A] => List[A] = \n",
    "    a => {\n",
    "        case Nil => Nil\n",
    "        case head :: Nil => head :: Nil\n",
    "        case head1 :: tail => head1 :: a :: intersperse2(a)(tail) \n",
    "    }"
   ]
  },
  {
   "cell_type": "code",
   "execution_count": 206,
   "metadata": {},
   "outputs": [
    {
     "name": "stdout",
     "output_type": "stream",
     "text": [
      "\u001b[32mcmd26$Helper$TestIntersperse:\u001b[0m\n",
      "\u001b[32mintersperse\u001b[0m\n",
      "\u001b[32m- should work\u001b[0m\n"
     ]
    }
   ],
   "source": [
    "run(new TestIntersperse(intersperse2))"
   ]
  },
  {
   "cell_type": "markdown",
   "metadata": {},
   "source": [
    "#### VARIANTE 3"
   ]
  },
  {
   "cell_type": "code",
   "execution_count": 88,
   "metadata": {},
   "outputs": [
    {
     "data": {
      "text/plain": [
       "defined \u001b[32mfunction\u001b[39m \u001b[36mintersperse3\u001b[39m"
      ]
     },
     "execution_count": 88,
     "metadata": {},
     "output_type": "execute_result"
    }
   ],
   "source": [
    "def intersperse3[A](a: A): List[A] => List[A] = \n",
    "    {\n",
    "        case Nil => Nil\n",
    "        case head :: Nil => head :: Nil\n",
    "        case head1 :: tail => head1 :: a :: intersperse3(a)(tail) \n",
    "    }"
   ]
  },
  {
   "cell_type": "code",
   "execution_count": 205,
   "metadata": {},
   "outputs": [
    {
     "name": "stdout",
     "output_type": "stream",
     "text": [
      "\u001b[32mcmd26$Helper$TestIntersperse:\u001b[0m\n",
      "\u001b[32mintersperse\u001b[0m\n",
      "\u001b[32m- should work\u001b[0m\n"
     ]
    }
   ],
   "source": [
    "run(new TestIntersperse(intersperse3))"
   ]
  },
  {
   "cell_type": "markdown",
   "metadata": {},
   "source": [
    "#### VARIANTE 4"
   ]
  },
  {
   "cell_type": "markdown",
   "metadata": {},
   "source": [
    "La función `findIndex` devuelve la posición del primer elemento de una lista que satisface un predicado dado. La función satisface los siguientes casos de prueba:"
   ]
  },
  {
   "cell_type": "code",
   "execution_count": 203,
   "metadata": {},
   "outputs": [
    {
     "data": {
      "text/plain": [
       "defined \u001b[32mclass\u001b[39m \u001b[36mTestFindIndex\u001b[39m"
      ]
     },
     "execution_count": 203,
     "metadata": {},
     "output_type": "execute_result"
    }
   ],
   "source": [
    "class TestFindIndex(\n",
    "    findIndex: (Int => Boolean) => List[Int] => Option[Int]\n",
    ") extends FlatSpec with Matchers{\n",
    "    \n",
    "    val isPositive = (i: Int) => i > 0\n",
    "    val isEven = (i: Int) => i % 2 == 0\n",
    "    \n",
    "    \"findIndex\" should \"work\" in {\n",
    "        findIndex(isEven)(List(1,2,3,4)) shouldBe Some(1)\n",
    "        findIndex(isEven)(List(1,3,5,7)) shouldBe None\n",
    "        findIndex(isEven)(List(2,4,5)) shouldBe Some(0)\n",
    "        findIndex(isPositive)(List(-1,-4,0,1)) shouldBe Some(3)\n",
    "    }\n",
    "}"
   ]
  },
  {
   "cell_type": "markdown",
   "metadata": {},
   "source": [
    "Implementa la función `findIndex` utilizando recursividad final (o por cola)."
   ]
  },
  {
   "cell_type": "code",
   "execution_count": 208,
   "metadata": {},
   "outputs": [
    {
     "data": {
      "text/plain": [
       "defined \u001b[32mfunction\u001b[39m \u001b[36mfindIndex4\u001b[39m"
      ]
     },
     "execution_count": 208,
     "metadata": {},
     "output_type": "execute_result"
    }
   ],
   "source": [
    "def findIndex4[A](pred: A => Boolean)(l: List[A]): Option[Int] = {\n",
    "    def aux(i: Int): List[A] => Option[Int] = {\n",
    "        case Nil => None\n",
    "        case head :: tail if pred(head) => Some(i)\n",
    "        case head :: tail => aux(i+1)(tail)\n",
    "    }\n",
    "    aux(0)(l)\n",
    "}"
   ]
  },
  {
   "cell_type": "code",
   "execution_count": 209,
   "metadata": {},
   "outputs": [
    {
     "name": "stdout",
     "output_type": "stream",
     "text": [
      "\u001b[32mcmd202$Helper$TestFindIndex:\u001b[0m\n",
      "\u001b[32mfindIndex\u001b[0m\n",
      "\u001b[32m- should work\u001b[0m\n"
     ]
    }
   ],
   "source": [
    "run(new TestFindIndex(findIndex1))"
   ]
  },
  {
   "cell_type": "markdown",
   "metadata": {},
   "source": [
    "#### VARIANTE 5"
   ]
  },
  {
   "cell_type": "code",
   "execution_count": 211,
   "metadata": {},
   "outputs": [
    {
     "data": {
      "text/plain": [
       "defined \u001b[32mfunction\u001b[39m \u001b[36mfindIndex5\u001b[39m"
      ]
     },
     "execution_count": 211,
     "metadata": {},
     "output_type": "execute_result"
    }
   ],
   "source": [
    "def findIndex5[A]: (A => Boolean) => List[A] => Option[Int] = \n",
    "    pred => l => {\n",
    "        def aux(i: Int): List[A] => Option[Int] = {\n",
    "            case Nil => None\n",
    "            case head :: tail if pred(head) => Some(i)\n",
    "            case head :: tail => aux(i+1)(tail)\n",
    "        }\n",
    "        aux(0)(l)        \n",
    "    }"
   ]
  },
  {
   "cell_type": "code",
   "execution_count": 212,
   "metadata": {},
   "outputs": [
    {
     "name": "stdout",
     "output_type": "stream",
     "text": [
      "\u001b[32mcmd202$Helper$TestFindIndex:\u001b[0m\n",
      "\u001b[32mfindIndex\u001b[0m\n",
      "\u001b[32m- should work\u001b[0m\n"
     ]
    }
   ],
   "source": [
    "run(new TestFindIndex(findIndex5))"
   ]
  },
  {
   "cell_type": "markdown",
   "metadata": {},
   "source": [
    "#### VARIANTE 6"
   ]
  },
  {
   "cell_type": "code",
   "execution_count": 213,
   "metadata": {},
   "outputs": [
    {
     "data": {
      "text/plain": [
       "defined \u001b[32mfunction\u001b[39m \u001b[36mfindIndex6\u001b[39m"
      ]
     },
     "execution_count": 213,
     "metadata": {},
     "output_type": "execute_result"
    }
   ],
   "source": [
    "def findIndex6[A](pred: A => Boolean): List[A] => Option[Int] = \n",
    "    l => {\n",
    "        def aux(i: Int): List[A] => Option[Int] = {\n",
    "            case Nil => None\n",
    "            case head :: tail if pred(head) => Some(i)\n",
    "            case head :: tail => aux(i+1)(tail)\n",
    "        }\n",
    "        aux(0)(l)\n",
    "    }"
   ]
  },
  {
   "cell_type": "code",
   "execution_count": 214,
   "metadata": {},
   "outputs": [
    {
     "name": "stdout",
     "output_type": "stream",
     "text": [
      "\u001b[32mcmd202$Helper$TestFindIndex:\u001b[0m\n",
      "\u001b[32mfindIndex\u001b[0m\n",
      "\u001b[32m- should work\u001b[0m\n"
     ]
    }
   ],
   "source": [
    "run(new TestFindIndex(findIndex6))"
   ]
  },
  {
   "cell_type": "markdown",
   "metadata": {},
   "source": [
    "# Ejercicio 4 \n",
    "__(2 puntos)__"
   ]
  },
  {
   "cell_type": "markdown",
   "metadata": {},
   "source": [
    "__NOTA: ejercicios sobre foldLeft y foldRight. Alternativamente, se podrían agrupar los de recursividad normal y foldRight, por una parte, y los de recursividad por cola y foldLeft, por otra.__"
   ]
  },
  {
   "cell_type": "markdown",
   "metadata": {},
   "source": [
    "#### VARIANTE 1"
   ]
  },
  {
   "cell_type": "markdown",
   "metadata": {},
   "source": [
    "La función `intersperse` intercala un elemento entre los posibles elementos de una lista. Su comportamiento satisface los siguientes casos de prueba:\n"
   ]
  },
  {
   "cell_type": "code",
   "execution_count": 27,
   "metadata": {},
   "outputs": [
    {
     "data": {
      "text/plain": [
       "defined \u001b[32mclass\u001b[39m \u001b[36mTestIntersperse\u001b[39m"
      ]
     },
     "execution_count": 27,
     "metadata": {},
     "output_type": "execute_result"
    }
   ],
   "source": [
    "class TestIntersperse(\n",
    "    intersperse: Char => List[Char] => List[Char]\n",
    ") extends FlatSpec with Matchers{\n",
    "    \n",
    "    \"intersperse\" should \"work\" in {\n",
    "        intersperse(',')(List()) shouldBe List()\n",
    "        intersperse(',')(List('h')) shouldBe List('h')\n",
    "        intersperse(',')(List('h', 'o', 'l', 'a')) shouldBe List('h', ',', 'o', ',', 'l', ',', 'a')\n",
    "    }\n",
    "}"
   ]
  },
  {
   "cell_type": "markdown",
   "metadata": {},
   "source": [
    "Implementa la función `intersperse` utilizando la función de orden superior `foldRight`."
   ]
  },
  {
   "cell_type": "code",
   "execution_count": 111,
   "metadata": {},
   "outputs": [
    {
     "data": {
      "text/plain": [
       "defined \u001b[32mfunction\u001b[39m \u001b[36mintersperseF1\u001b[39m"
      ]
     },
     "execution_count": 111,
     "metadata": {},
     "output_type": "execute_result"
    }
   ],
   "source": [
    "def intersperseF1[A](a: A)(l: List[A]): List[A] = \n",
    "    l.foldRight(Nil: List[A]){\n",
    "        case (head, Nil) => head :: Nil\n",
    "        case (head, tailSol) => head :: a :: tailSol\n",
    "    }"
   ]
  },
  {
   "cell_type": "code",
   "execution_count": 217,
   "metadata": {},
   "outputs": [
    {
     "name": "stdout",
     "output_type": "stream",
     "text": [
      "\u001b[32mcmd26$Helper$TestIntersperse:\u001b[0m\n",
      "\u001b[32mintersperse\u001b[0m\n",
      "\u001b[32m- should work\u001b[0m\n"
     ]
    }
   ],
   "source": [
    "run(new TestIntersperse(intersperseF1))"
   ]
  },
  {
   "cell_type": "markdown",
   "metadata": {},
   "source": [
    "#### VARIANTE 2"
   ]
  },
  {
   "cell_type": "code",
   "execution_count": 112,
   "metadata": {},
   "outputs": [
    {
     "data": {
      "text/plain": [
       "defined \u001b[32mfunction\u001b[39m \u001b[36mintersperseF2\u001b[39m"
      ]
     },
     "execution_count": 112,
     "metadata": {},
     "output_type": "execute_result"
    }
   ],
   "source": [
    "def intersperseF2[A]: A => List[A] => List[A] = \n",
    "    a => l => l.foldRight(List[A]()){\n",
    "        case (head, Nil) => head :: Nil\n",
    "        case (head, tailSol) => head :: a :: tailSol\n",
    "    }"
   ]
  },
  {
   "cell_type": "code",
   "execution_count": 216,
   "metadata": {},
   "outputs": [
    {
     "name": "stdout",
     "output_type": "stream",
     "text": [
      "\u001b[32mcmd26$Helper$TestIntersperse:\u001b[0m\n",
      "\u001b[32mintersperse\u001b[0m\n",
      "\u001b[32m- should work\u001b[0m\n"
     ]
    }
   ],
   "source": [
    "run(new TestIntersperse(intersperseF2))"
   ]
  },
  {
   "cell_type": "markdown",
   "metadata": {},
   "source": [
    "#### VARIANTE 3"
   ]
  },
  {
   "cell_type": "code",
   "execution_count": 113,
   "metadata": {},
   "outputs": [
    {
     "data": {
      "text/plain": [
       "defined \u001b[32mfunction\u001b[39m \u001b[36mintersperseF3\u001b[39m"
      ]
     },
     "execution_count": 113,
     "metadata": {},
     "output_type": "execute_result"
    }
   ],
   "source": [
    "def intersperseF3[A](a: A): List[A] => List[A] = \n",
    "    _.foldRight(List[A]()){\n",
    "        case (head, Nil) => head :: Nil\n",
    "        case (head, tailSol) => head :: a :: tailSol\n",
    "    }"
   ]
  },
  {
   "cell_type": "code",
   "execution_count": 215,
   "metadata": {},
   "outputs": [
    {
     "name": "stdout",
     "output_type": "stream",
     "text": [
      "\u001b[32mcmd26$Helper$TestIntersperse:\u001b[0m\n",
      "\u001b[32mintersperse\u001b[0m\n",
      "\u001b[32m- should work\u001b[0m\n"
     ]
    }
   ],
   "source": [
    "run(new TestIntersperse(intersperseF3))"
   ]
  },
  {
   "cell_type": "markdown",
   "metadata": {},
   "source": [
    "#### VARIANTE 4"
   ]
  },
  {
   "cell_type": "markdown",
   "metadata": {},
   "source": [
    "La función `findIndex` devuelve la posición del primer elemento de una lista que satisface un predicado dado. La función satisface los siguientes casos de prueba:"
   ]
  },
  {
   "cell_type": "code",
   "execution_count": 203,
   "metadata": {},
   "outputs": [
    {
     "data": {
      "text/plain": [
       "defined \u001b[32mclass\u001b[39m \u001b[36mTestFindIndex\u001b[39m"
      ]
     },
     "execution_count": 203,
     "metadata": {},
     "output_type": "execute_result"
    }
   ],
   "source": [
    "class TestFindIndex(\n",
    "    findIndex: (Int => Boolean) => List[Int] => Option[Int]\n",
    ") extends FlatSpec with Matchers{\n",
    "    \n",
    "    val isPositive = (i: Int) => i > 0\n",
    "    val isEven = (i: Int) => i % 2 == 0\n",
    "    \n",
    "    \"findIndex\" should \"work\" in {\n",
    "        findIndex(isEven)(List(1,2,3,4)) shouldBe Some(1)\n",
    "        findIndex(isEven)(List(1,3,5,7)) shouldBe None\n",
    "        findIndex(isEven)(List(2,4,5)) shouldBe Some(0)\n",
    "        findIndex(isPositive)(List(-1,-4,0,1)) shouldBe Some(3)\n",
    "    }\n",
    "}"
   ]
  },
  {
   "cell_type": "markdown",
   "metadata": {},
   "source": [
    "Implementa la función `findIndex` utilizando la función de orden superior `foldLeft`."
   ]
  },
  {
   "cell_type": "code",
   "execution_count": 224,
   "metadata": {},
   "outputs": [
    {
     "data": {
      "text/plain": [
       "defined \u001b[32mfunction\u001b[39m \u001b[36mfindIndexFL4\u001b[39m"
      ]
     },
     "execution_count": 224,
     "metadata": {},
     "output_type": "execute_result"
    }
   ],
   "source": [
    "def findIndexFL4[A](pred: A => Boolean)(l: List[A]): Option[Int] = \n",
    "    l.foldLeft((0, Option.empty[Int])){\n",
    "        case ((i, None), head) if pred(head) => (i, Some(i))\n",
    "        case ((i, acc), _) => (i+1, acc)\n",
    "    }._2"
   ]
  },
  {
   "cell_type": "code",
   "execution_count": 225,
   "metadata": {},
   "outputs": [
    {
     "name": "stdout",
     "output_type": "stream",
     "text": [
      "\u001b[32mcmd202$Helper$TestFindIndex:\u001b[0m\n",
      "\u001b[32mfindIndex\u001b[0m\n",
      "\u001b[32m- should work\u001b[0m\n"
     ]
    }
   ],
   "source": [
    "run(new TestFindIndex(findIndexFL4))"
   ]
  },
  {
   "cell_type": "markdown",
   "metadata": {},
   "source": [
    "#### VARIANTE 5"
   ]
  },
  {
   "cell_type": "code",
   "execution_count": 219,
   "metadata": {},
   "outputs": [
    {
     "data": {
      "text/plain": [
       "defined \u001b[32mfunction\u001b[39m \u001b[36mfindIndexFL5\u001b[39m"
      ]
     },
     "execution_count": 219,
     "metadata": {},
     "output_type": "execute_result"
    }
   ],
   "source": [
    "def findIndexFL5[A](pred: A => Boolean): List[A] => Option[Int] = \n",
    "    _.foldLeft((0, Option.empty[Int])){\n",
    "        case ((i, None), head) if pred(head) => (i, Some(i))\n",
    "        case ((i, acc), _) => (i+1, acc)\n",
    "    }._2"
   ]
  },
  {
   "cell_type": "code",
   "execution_count": 222,
   "metadata": {},
   "outputs": [
    {
     "name": "stdout",
     "output_type": "stream",
     "text": [
      "\u001b[32mcmd202$Helper$TestFindIndex:\u001b[0m\n",
      "\u001b[32mfindIndex\u001b[0m\n",
      "\u001b[32m- should work\u001b[0m\n"
     ]
    }
   ],
   "source": [
    "run(new TestFindIndex(findIndexFL5))"
   ]
  },
  {
   "cell_type": "markdown",
   "metadata": {},
   "source": [
    "#### VARIANTE 6"
   ]
  },
  {
   "cell_type": "code",
   "execution_count": 220,
   "metadata": {},
   "outputs": [
    {
     "data": {
      "text/plain": [
       "defined \u001b[32mfunction\u001b[39m \u001b[36mfindIndexFL6\u001b[39m"
      ]
     },
     "execution_count": 220,
     "metadata": {},
     "output_type": "execute_result"
    }
   ],
   "source": [
    "def findIndexFL6[A]: (A => Boolean) => List[A] => Option[Int] = \n",
    "    pred => _.foldLeft((0, Option.empty[Int])){\n",
    "        case ((i, None), head) if pred(head) => (i, Some(i))\n",
    "        case ((i, acc), _) => (i+1, acc)\n",
    "    }._2"
   ]
  },
  {
   "cell_type": "code",
   "execution_count": 221,
   "metadata": {},
   "outputs": [
    {
     "name": "stdout",
     "output_type": "stream",
     "text": [
      "\u001b[32mcmd202$Helper$TestFindIndex:\u001b[0m\n",
      "\u001b[32mfindIndex\u001b[0m\n",
      "\u001b[32m- should work\u001b[0m\n"
     ]
    }
   ],
   "source": [
    "run(new TestFindIndex(findIndexFL6))"
   ]
  },
  {
   "cell_type": "markdown",
   "metadata": {},
   "source": [
    "# Ejercicio 5\n",
    "__(2,5 puntos)__"
   ]
  },
  {
   "cell_type": "markdown",
   "metadata": {},
   "source": [
    "TODO: información de contexto"
   ]
  },
  {
   "cell_type": "markdown",
   "metadata": {},
   "source": [
    "#### VARIANTE 1"
   ]
  },
  {
   "cell_type": "markdown",
   "metadata": {},
   "source": [
    "Implementa la siguiente consulta sobre el modelo de datos de películas: _dado un director, obtener el título de su película peor valorada con una puntuación menor que 3, en caso de que exista (de existir varias con esta condición, se devolverá una cualquiera)_."
   ]
  },
  {
   "cell_type": "code",
   "execution_count": 230,
   "metadata": {},
   "outputs": [
    {
     "data": {
      "text/plain": [
       "defined \u001b[32mfunction\u001b[39m \u001b[36mquery1\u001b[39m"
      ]
     },
     "execution_count": 230,
     "metadata": {},
     "output_type": "execute_result"
    }
   ],
   "source": [
    "def query1(director: String)(mdb: MovieDatabase): Option[String] = \n",
    "    (for {\n",
    "        rating <- ratings(mdb)\n",
    "        film <- getFilm(rating.film)(mdb)\n",
    "        if film.director == director && rating.score < 3\n",
    "    } yield (film.title, rating.score))\n",
    "        .sortBy(_._2)\n",
    "        .headOption\n",
    "        .map(_._1)"
   ]
  },
  {
   "cell_type": "markdown",
   "metadata": {},
   "source": [
    "### VARIANTE 2"
   ]
  },
  {
   "cell_type": "markdown",
   "metadata": {},
   "source": [
    "Implementa la siguiente consulta sobre el modelo de datos de películas: _dado un director, obtener el título de su película peor valorada que no pertenezca al género de comedia, en caso de que exista (de existir varias, se devolverá una cualquiera)_."
   ]
  },
  {
   "cell_type": "code",
   "execution_count": 232,
   "metadata": {},
   "outputs": [
    {
     "data": {
      "text/plain": [
       "defined \u001b[32mfunction\u001b[39m \u001b[36mquery2\u001b[39m"
      ]
     },
     "execution_count": 232,
     "metadata": {},
     "output_type": "execute_result"
    }
   ],
   "source": [
    "def query2(director: String)(mdb: MovieDatabase): Option[String] = \n",
    "    (for {\n",
    "        rating <- ratings(mdb)\n",
    "        film <- getFilm(rating.film)(mdb)\n",
    "        if film.director == director && film.genre != \"Comedy\"\n",
    "    } yield (film.title, rating.score))\n",
    "        .sortBy(_._2)\n",
    "        .headOption\n",
    "        .map(_._1)"
   ]
  },
  {
   "cell_type": "markdown",
   "metadata": {},
   "source": [
    "#### VARIANTE 3"
   ]
  },
  {
   "cell_type": "markdown",
   "metadata": {},
   "source": [
    "Implementa la siguiente consulta sobre el modelo de datos de películas: _dado un director, obtener los títulos de sus tres películas peor valoradas con una puntuación menor que 3, ordenadas de peor a mejor valoración (en caso de existir menos de tres películas, se devolverán las que hayan)_."
   ]
  },
  {
   "cell_type": "code",
   "execution_count": 233,
   "metadata": {},
   "outputs": [
    {
     "data": {
      "text/plain": [
       "defined \u001b[32mfunction\u001b[39m \u001b[36mquery3\u001b[39m"
      ]
     },
     "execution_count": 233,
     "metadata": {},
     "output_type": "execute_result"
    }
   ],
   "source": [
    "def query3(director: String)(mdb: MovieDatabase): List[String] = \n",
    "    (for {\n",
    "        rating <- ratings(mdb)\n",
    "        film <- getFilm(rating.film)(mdb)\n",
    "        if film.director == director && rating.score < 3\n",
    "    } yield (film.title, rating.score))\n",
    "        .sortBy(_._2)\n",
    "        .take(3)\n",
    "        .map(_._1)"
   ]
  },
  {
   "cell_type": "markdown",
   "metadata": {},
   "source": [
    "#### VARIANTE 4"
   ]
  },
  {
   "cell_type": "markdown",
   "metadata": {},
   "source": [
    "Implementa la siguiente consulta sobre el modelo de datos de películas: _dado un director, obtener los títulos de sus tres películas peor valoradas que no sean comedias, ordenadas de peor a mejor valoración (en caso de existir menos de tres películas, se devolverán las que hayan)_."
   ]
  },
  {
   "cell_type": "code",
   "execution_count": 234,
   "metadata": {},
   "outputs": [
    {
     "data": {
      "text/plain": [
       "defined \u001b[32mfunction\u001b[39m \u001b[36mquery4\u001b[39m"
      ]
     },
     "execution_count": 234,
     "metadata": {},
     "output_type": "execute_result"
    }
   ],
   "source": [
    "def query4(director: String)(mdb: MovieDatabase): List[String] = \n",
    "    (for {\n",
    "        rating <- ratings(mdb)\n",
    "        film <- getFilm(rating.film)(mdb)\n",
    "        if film.director == director && film.genre != \"Comedy\"\n",
    "    } yield (film.title, rating.score))\n",
    "        .sortBy(_._2)\n",
    "        .take(3)\n",
    "        .map(_._1)"
   ]
  },
  {
   "cell_type": "markdown",
   "metadata": {},
   "source": [
    "#### VARIANTE 5"
   ]
  },
  {
   "cell_type": "markdown",
   "metadata": {},
   "source": [
    "Implementa la siguiente consulta sobre el modelo de datos de películas: _dada una edad, obtener el nombre del usuario de dicha edad que ha realizado la peor puntuación de una película, siendo esta puntuación menor que 3 (de existir varios usuarios que cumplan estas condiciones, se devolverá el nombre de uno cualquiera)_."
   ]
  },
  {
   "cell_type": "code",
   "execution_count": 235,
   "metadata": {},
   "outputs": [
    {
     "data": {
      "text/plain": [
       "defined \u001b[32mfunction\u001b[39m \u001b[36mquery5\u001b[39m"
      ]
     },
     "execution_count": 235,
     "metadata": {},
     "output_type": "execute_result"
    }
   ],
   "source": [
    "def query5(age: Int)(mdb: MovieDatabase): Option[String] = \n",
    "    (for {\n",
    "        rating <- ratings(mdb)\n",
    "        user <- getUser(rating.user)(mdb)\n",
    "        if user.age == age && rating.score < 3\n",
    "    } yield (user.name, rating.score))\n",
    "        .sortBy(_._2)\n",
    "        .headOption\n",
    "        .map(_._1)"
   ]
  },
  {
   "cell_type": "markdown",
   "metadata": {},
   "source": [
    "#### VARIANTE 6"
   ]
  },
  {
   "cell_type": "markdown",
   "metadata": {},
   "source": [
    "Implementa la siguiente consulta sobre el modelo de datos de películas: _dada una edad, obtener los nombres los tres usuarios que hayan realizado las peores puntuaciones de una película, ordenados de peor a mejor valoración (en caso de que existan menos de tres, se devolverán los nombres de los que hayan)_."
   ]
  },
  {
   "cell_type": "code",
   "execution_count": 238,
   "metadata": {},
   "outputs": [
    {
     "data": {
      "text/plain": [
       "defined \u001b[32mfunction\u001b[39m \u001b[36mquery000_\u001b[39m"
      ]
     },
     "execution_count": 238,
     "metadata": {},
     "output_type": "execute_result"
    }
   ],
   "source": [
    "def query000_(age: Int)(mdb: MovieDatabase): List[String] = \n",
    "    ratings(mdb)\n",
    "        .flatMap(rating => \n",
    "            getUser(rating.user)(mdb)\n",
    "                .filter(_.age == age)\n",
    "                .map(user => (user.name, rating.score)))\n",
    "        .sortBy(_._2)\n",
    "        .take(3)\n",
    "        .map(_._1)"
   ]
  }
 ],
 "metadata": {
  "kernelspec": {
   "display_name": "Scala",
   "language": "scala",
   "name": "scala"
  },
  "language_info": {
   "codemirror_mode": "text/x-scala",
   "file_extension": ".scala",
   "mimetype": "text/x-scala",
   "name": "scala",
   "nbconvert_exporter": "script",
   "version": "2.13.2"
  }
 },
 "nbformat": 4,
 "nbformat_minor": 2
}
